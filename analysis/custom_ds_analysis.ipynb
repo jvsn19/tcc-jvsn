{
 "cells": [
  {
   "cell_type": "markdown",
   "id": "dimensional-hotel",
   "metadata": {},
   "source": [
    "## Imports"
   ]
  },
  {
   "cell_type": "code",
   "execution_count": 9,
   "id": "congressional-insider",
   "metadata": {},
   "outputs": [],
   "source": [
    "import pandas as pd\n",
    "import matplotlib.pyplot as plt\n",
    "import subprocess\n",
    "\n",
    "%matplotlib inline"
   ]
  },
  {
   "cell_type": "markdown",
   "id": "proved-charter",
   "metadata": {},
   "source": [
    "## Global Variables"
   ]
  },
  {
   "cell_type": "code",
   "execution_count": 6,
   "id": "round-arthur",
   "metadata": {},
   "outputs": [],
   "source": [
    "TEST_PROGRAM_PATH = \"../custom_ds/main\""
   ]
  },
  {
   "cell_type": "markdown",
   "id": "disabled-turkish",
   "metadata": {},
   "source": [
    "## Functions"
   ]
  },
  {
   "cell_type": "code",
   "execution_count": null,
   "id": "ethical-stereo",
   "metadata": {},
   "outputs": [],
   "source": []
  },
  {
   "cell_type": "code",
   "execution_count": 40,
   "id": "absent-portugal",
   "metadata": {},
   "outputs": [],
   "source": [
    "def run_command(command):\n",
    "    sproc = subprocess.Popen(command.split(' '), stdout=subprocess.PIPE, stderr=subprocess.PIPE)\n",
    "    output, err = map(lambda byte: byte.decode('utf-8'), sproc.communicate())\n",
    "    if err:\n",
    "        raise Exception(err)\n",
    "    return output.strip()\n",
    "\n",
    "def compile_cpp(path, **kwargs):\n",
    "    command = f\"g++ {path}.cpp -o {path}.ignoreme\"\n",
    "    return run_command(command.strip())\n",
    "\n",
    "def execute_cpp(path, **kwargs):\n",
    "    command = f\"./{path}.ignoreme {kwargs.get('file_path', '')} {kwargs.get('kmer_size', '')} {kwargs.get('hash_map_size', '')}\"\n",
    "    return run_command(command.strip())"
   ]
  },
  {
   "cell_type": "markdown",
   "id": "referenced-cooling",
   "metadata": {},
   "source": [
    "## Dataframe Helper Functions"
   ]
  },
  {
   "cell_type": "code",
   "execution_count": 111,
   "id": "dressed-accreditation",
   "metadata": {},
   "outputs": [],
   "source": [
    "def create_dataframe(columns, data = []):\n",
    "    return pd.DataFrame(columns = columns, data = data)\n",
    "\n",
    "def plot_graphic(test_name, dataframe, x_axis, y_axis):\n",
    "    plt.title(test_name)\n",
    "    plt.xlabel(x_axis)\n",
    "    plt.ylabel(y_axis)\n",
    "    plt.plot(a[x_axis], a[y_axis], '.')\n",
    "    plt.show()"
   ]
  },
  {
   "cell_type": "markdown",
   "id": "casual-outside",
   "metadata": {},
   "source": [
    "## Test Parameters\n",
    "We want to define which tests do we want to do (for example, test the k-mer size influence on this algorithm).\n",
    "Let's define a test suite structure, defining the parameter we want to test. The key should be the test name, and the value is a dict with the parameters we want to pass to our test function:\n",
    "```python3\n",
    "test_suite = {\n",
    "  <test_name>: {\n",
    "      'test_file_path': str,\n",
    "      'kmer_size': int,\n",
    "      'hash_map_size': int,\n",
    "  }\n",
    "}\n",
    "```"
   ]
  },
  {
   "cell_type": "code",
   "execution_count": 117,
   "id": "durable-functionality",
   "metadata": {},
   "outputs": [],
   "source": [
    "def run_test_kmer(test):\n",
    "    df = create_dataframe(columns)\n",
    "    for kmer_size in test['kmer_size']:\n",
    "        out = execute_cpp(\n",
    "            TEST_PROGRAM_PATH, \n",
    "            file_path = test[\"file_path\"], \n",
    "            kmer_size = kmer_size, \n",
    "            hash_map_size = test[\"hash_map_size\"])\n",
    "        df = df.append(create_dataframe(columns, [out.split(' ')]))\n",
    "    return df\n",
    "\n",
    "def run_test_hash_map_size(test):\n",
    "    df = create_dataframe(columns)\n",
    "    for hash_map_size in test['hash_map_size']:\n",
    "        out = execute_cpp(\n",
    "            TEST_PROGRAM_PATH, \n",
    "            file_path = test[\"file_path\"], \n",
    "            kmer_size = test[\"kmer_size\"], \n",
    "            hash_map_size = hash_map_size)\n",
    "        df = df.append(create_dataframe(columns, [out.split(' ')]))\n",
    "    return df"
   ]
  },
  {
   "cell_type": "code",
   "execution_count": 125,
   "id": "civic-prison",
   "metadata": {},
   "outputs": [],
   "source": [
    "test_suite = {\n",
    "    \"test_kmer_size\": {\n",
    "        \"file_path\": \"../datasets/dna.5MB\",\n",
    "        \"kmer_size\": [7, 8, 9, 10, 11, 12, 13, 14, 15],\n",
    "        \"hash_map_size\": 504871,\n",
    "    },\n",
    "    \"test_hash_map_size\": {\n",
    "        \"file_path\": \"../datasets/dna.5MB\",\n",
    "        \"kmer_size\": 10,\n",
    "        \"hash_map_size\": [50487],\n",
    "    },\n",
    "}"
   ]
  },
  {
   "cell_type": "markdown",
   "id": "straight-mouse",
   "metadata": {},
   "source": [
    "## Test"
   ]
  },
  {
   "cell_type": "code",
   "execution_count": 73,
   "id": "removable-humidity",
   "metadata": {},
   "outputs": [],
   "source": [
    "compile_cpp(TEST_PROGRAM_PATH)\n",
    "columns = [\n",
    "    \"true_positives\", \n",
    "    \"true_negatives\", \n",
    "    \"false_positives\", \n",
    "    \"false_negatives\", \n",
    "    \"sensibility\", \n",
    "    \"specificity\",\n",
    "    \"found_kmers\",\n",
    "]"
   ]
  },
  {
   "cell_type": "code",
   "execution_count": 119,
   "id": "complimentary-legend",
   "metadata": {},
   "outputs": [],
   "source": [
    "test_kmer_size = run_test_kmer(test_suite[\"test_kmer_size\"])"
   ]
  },
  {
   "cell_type": "code",
   "execution_count": 120,
   "id": "wired-recovery",
   "metadata": {},
   "outputs": [
    {
     "data": {
      "image/png": "[encoded data removed]",
      "text/plain": [
       "<Figure size 432x288 with 1 Axes>"
      ]
     },
     "metadata": {
      "needs_background": "light"
     },
     "output_type": "display_data"
    }
   ],
   "source": [
    "plot_graphic(\"test_kmer_size\", test_kmer_size, \"false_positives\", \"true_positives\")"
   ]
  },
  {
   "cell_type": "code",
   "execution_count": 123,
   "id": "polished-namibia",
   "metadata": {},
   "outputs": [],
   "source": [
    "hash_map_size_test = run_test_hash_map_size(test_suite[\"test_hash_map_size\"])"
   ]
  },
  {
   "cell_type": "code",
   "execution_count": 126,
   "id": "unusual-failure",
   "metadata": {},
   "outputs": [
    {
     "data": {
      "text/html": [
       "<div>\n",
       "<style scoped>\n",
       "    .dataframe tbody tr th:only-of-type {\n",
       "        vertical-align: middle;\n",
       "    }\n",
       "\n",
       "    .dataframe tbody tr th {\n",
       "        vertical-align: top;\n",
       "    }\n",
       "\n",
       "    .dataframe thead th {\n",
       "        text-align: right;\n",
       "    }\n",
       "</style>\n",
       "<table border=\"1\" class=\"dataframe\">\n",
       "  <thead>\n",
       "    <tr style=\"text-align: right;\">\n",
       "      <th></th>\n",
       "      <th>true_positives</th>\n",
       "      <th>true_negatives</th>\n",
       "      <th>false_positives</th>\n",
       "      <th>false_negatives</th>\n",
       "      <th>sensibility</th>\n",
       "      <th>specificity</th>\n",
       "      <th>found_kmers</th>\n",
       "    </tr>\n",
       "  </thead>\n",
       "  <tbody>\n",
       "    <tr>\n",
       "      <th>0</th>\n",
       "      <td>804665</td>\n",
       "      <td>243911</td>\n",
       "      <td>0</td>\n",
       "      <td>0</td>\n",
       "      <td>1</td>\n",
       "      <td>1</td>\n",
       "      <td>804665</td>\n",
       "    </tr>\n",
       "  </tbody>\n",
       "</table>\n",
       "</div>"
      ],
      "text/plain": [
       "  true_positives true_negatives false_positives false_negatives sensibility  \\\n",
       "0         804665         243911               0               0           1   \n",
       "\n",
       "  specificity found_kmers  \n",
       "0           1      804665  "
      ]
     },
     "execution_count": 126,
     "metadata": {},
     "output_type": "execute_result"
    }
   ],
   "source": [
    "hash_map_size_test"
   ]
  },
  {
   "cell_type": "code",
   "execution_count": null,
   "id": "noticed-secretary",
   "metadata": {},
   "outputs": [],
   "source": []
  }
 ],
 "metadata": {
  "kernelspec": {
   "display_name": "Python 3",
   "language": "python",
   "name": "python3"
  },
  "language_info": {
   "codemirror_mode": {
    "name": "ipython",
    "version": 3
   },
   "file_extension": ".py",
   "mimetype": "text/x-python",
   "name": "python",
   "nbconvert_exporter": "python",
   "pygments_lexer": "ipython3",
   "version": "3.8.5"
  }
 },
 "nbformat": 4,
 "nbformat_minor": 5
}
