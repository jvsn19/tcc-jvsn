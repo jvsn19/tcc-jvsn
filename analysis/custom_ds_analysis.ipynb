{
 "cells": [
  {
   "cell_type": "markdown",
   "id": "proper-trader",
   "metadata": {},
   "source": [
    "## Imports"
   ]
  },
  {
   "cell_type": "code",
   "execution_count": 225,
   "id": "congressional-insider",
   "metadata": {},
   "outputs": [],
   "source": [
    "import pandas as pd\n",
    "import matplotlib.pyplot as plt\n",
    "import subprocess\n",
    "\n",
    "%matplotlib inline"
   ]
  },
  {
   "cell_type": "markdown",
   "id": "competitive-pottery",
   "metadata": {},
   "source": [
    "## Global Variables"
   ]
  },
  {
   "cell_type": "code",
   "execution_count": 226,
   "id": "round-arthur",
   "metadata": {},
   "outputs": [],
   "source": [
    "TEST_PROGRAM_PATH = \"../custom_ds/main\""
   ]
  },
  {
   "cell_type": "markdown",
   "id": "solved-adapter",
   "metadata": {},
   "source": [
    "## Functions"
   ]
  },
  {
   "cell_type": "code",
   "execution_count": 284,
   "id": "absent-portugal",
   "metadata": {},
   "outputs": [],
   "source": [
    "def run_command(command):\n",
    "    sproc = subprocess.Popen(command.split(' '), stdout=subprocess.PIPE, stderr=subprocess.PIPE)\n",
    "    output, err = map(lambda byte: byte.decode('utf-8'), sproc.communicate())\n",
    "    return output.strip()\n",
    "\n",
    "def compile_cpp(path, **kwargs):\n",
    "    command = f\"g++ {path}.cpp -o {path}.ignoreme\"\n",
    "    return run_command(command.strip())\n",
    "\n",
    "def execute_cpp(path, **kwargs):\n",
    "    command = f\"./{path}.ignoreme {kwargs.get('file_path', '')} {kwargs.get('kmer_size', '')} {kwargs.get('hash_map_size', '')} {kwargs.get('fp_size', '')} {kwargs.get('use_buffer', '')} {kwargs.get('run_test', '')}\"\n",
    "    return run_command(command.strip())"
   ]
  },
  {
   "cell_type": "markdown",
   "id": "median-generation",
   "metadata": {},
   "source": [
    "## Dataframe Helper Functions"
   ]
  },
  {
   "cell_type": "code",
   "execution_count": 275,
   "id": "worthy-organic",
   "metadata": {},
   "outputs": [],
   "source": [
    "def create_dataframe(columns, data = []):\n",
    "    return pd.DataFrame(columns = columns, data = data)\n",
    "\n",
    "def plot_graphic(test_name, dataframe, x_axis, y_axis):\n",
    "    plt.title(test_name)\n",
    "    plt.xlabel(x_axis)\n",
    "    plt.ylabel(y_axis)\n",
    "    plt.plot(dataframe[x_axis], dataframe[y_axis], '-')\n",
    "    plt.show()"
   ]
  },
  {
   "cell_type": "markdown",
   "id": "polish-victory",
   "metadata": {},
   "source": [
    "## Test Parameters\n",
    "We want to define which tests do we want to do (for example, test the k-mer size influence on this algorithm).\n",
    "Let's define a test suite structure, defining the parameter we want to test. The key should be the test name, and the value is a dict with the parameters we want to pass to our test function:\n",
    "```python3\n",
    "test_suite = {\n",
    "  <test_name>: {\n",
    "      'test_file_path': str,\n",
    "      'kmer_size': int,\n",
    "      'hash_map_size': int,\n",
    "      'fp_size': int,\n",
    "  }\n",
    "}\n",
    "```"
   ]
  },
  {
   "cell_type": "code",
   "execution_count": 274,
   "id": "certain-chapter",
   "metadata": {},
   "outputs": [],
   "source": [
    "def run_tests(test):\n",
    "    df = create_dataframe(columns)\n",
    "    for file_path in test['file_path']:\n",
    "        for hash_map_size in test['hash_map_size']:\n",
    "            for kmer_size in test['kmer_size']:\n",
    "                for fp_size in test['fp_size']:\n",
    "                    for use_buffer in test['use_buffer']:\n",
    "                        out = execute_cpp(\n",
    "                            TEST_PROGRAM_PATH, \n",
    "                            file_path = file_path, \n",
    "                            kmer_size = kmer_size, \n",
    "                            hash_map_size = hash_map_size,\n",
    "                            fp_size = fp_size,\n",
    "                            use_buffer = use_buffer,\n",
    "                            run_test = test['run_test']\n",
    "                        )\n",
    "                        \n",
    "                        df = df.append(\n",
    "                            create_dataframe(\n",
    "                                columns, \n",
    "                                [[file_path, \n",
    "                                 kmer_size,\n",
    "                                 hash_map_size,\n",
    "                                 fp_size,\n",
    "                                 use_buffer,\n",
    "                                ] + out.split(' ')]\n",
    "                            )\n",
    "                        )\n",
    "    return df"
   ]
  },
  {
   "cell_type": "code",
   "execution_count": 281,
   "id": "protected-fetish",
   "metadata": {},
   "outputs": [],
   "source": [
    "test_suite = {\n",
    "    \"test_1\": {\n",
    "        \"file_path\": [\"../datasets/dna.5MB\"],\n",
    "        \"kmer_size\": [8, 10, 12],\n",
    "        \"hash_map_size\": [20],\n",
    "        \"fp_size\": [3],\n",
    "        'use_buffer': [0],\n",
    "        \"run_test\": 1,\n",
    "    },\n",
    "}"
   ]
  },
  {
   "cell_type": "code",
   "execution_count": 277,
   "id": "olympic-saudi",
   "metadata": {},
   "outputs": [],
   "source": [
    "columns = [\n",
    "    \"file_path\",\n",
    "    \"kmer_size\",\n",
    "    \"hash_map_size\",\n",
    "    \"fp_size\",\n",
    "    \"use_buffer\",\n",
    "    \"true_positives\", \n",
    "    \"true_negatives\", \n",
    "    \"false_positives\", \n",
    "    \"false_negatives\", \n",
    "    \"sensibility\", \n",
    "    \"specificity\",\n",
    "    \"found_kmers\",\n",
    "]"
   ]
  },
  {
   "cell_type": "markdown",
   "id": "regular-privilege",
   "metadata": {},
   "source": [
    "## Test"
   ]
  },
  {
   "cell_type": "code",
   "execution_count": 285,
   "id": "neither-floating",
   "metadata": {},
   "outputs": [
    {
     "data": {
      "text/plain": [
       "''"
      ]
     },
     "execution_count": 285,
     "metadata": {},
     "output_type": "execute_result"
    }
   ],
   "source": [
    "compile_cpp(TEST_PROGRAM_PATH)"
   ]
  },
  {
   "cell_type": "markdown",
   "id": "temporal-import",
   "metadata": {},
   "source": [
    "1. testar kmer 8, 16, 24, 32\n",
    "2. tamanho da tabela 2x tamanho do arquivo\n",
    "3. tabela também se limita ao tamanho do kmer. Se kmer size = 8, no máximo teremos um valor de 16 bits\n",
    "4. Tamanho da tablea se limita ao numero de kmer distintos\n",
    "5. tamanho da tabela x tamanho do numero de kmers distintos (1 << kmer_size)\n",
    "\n",
    "numero de kmers distintos x tamanho do arquivo (pegar o maximo entre eles)\n",
    "\n",
    "teste raw \n",
    "- tempo apra criar tabela\n",
    "- quantos slots ocupados\n",
    "- tamanho da estrutura\n",
    "\n"
   ]
  },
  {
   "cell_type": "markdown",
   "id": "cutting-spoke",
   "metadata": {},
   "source": [
    "## Testar Sensibilidade e Especificidade\n",
    "Testaremos Spec e Senst variando os valores "
   ]
  }
 ],
 "metadata": {
  "kernelspec": {
   "display_name": "Python 3",
   "language": "python",
   "name": "python3"
  },
  "language_info": {
   "codemirror_mode": {
    "name": "ipython",
    "version": 3
   },
   "file_extension": ".py",
   "mimetype": "text/x-python",
   "name": "python",
   "nbconvert_exporter": "python",
   "pygments_lexer": "ipython3",
   "version": "3.8.5"
  }
 },
 "nbformat": 4,
 "nbformat_minor": 5
}
