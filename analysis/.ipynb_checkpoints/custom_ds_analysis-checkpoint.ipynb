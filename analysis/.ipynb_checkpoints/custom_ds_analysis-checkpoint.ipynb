{
 "cells": [
  {
   "cell_type": "markdown",
   "id": "thermal-validation",
   "metadata": {},
   "source": [
    "## Imports"
   ]
  },
  {
   "cell_type": "code",
   "execution_count": 9,
   "id": "congressional-insider",
   "metadata": {},
   "outputs": [],
   "source": [
    "import pandas as pd\n",
    "import matplotlib.pyplot as plt\n",
    "import subprocess\n",
    "\n",
    "%matplotlib inline"
   ]
  },
  {
   "cell_type": "markdown",
   "id": "massive-classroom",
   "metadata": {},
   "source": [
    "## Global Variables"
   ]
  },
  {
   "cell_type": "code",
   "execution_count": 6,
   "id": "round-arthur",
   "metadata": {},
   "outputs": [],
   "source": [
    "TEST_PROGRAM_PATH = \"../custom_ds/main\""
   ]
  },
  {
   "cell_type": "markdown",
   "id": "numeric-banner",
   "metadata": {},
   "source": [
    "## Functions"
   ]
  },
  {
   "cell_type": "code",
   "execution_count": null,
   "id": "dirty-vulnerability",
   "metadata": {},
   "outputs": [],
   "source": []
  },
  {
   "cell_type": "code",
   "execution_count": 40,
   "id": "absent-portugal",
   "metadata": {},
   "outputs": [],
   "source": [
    "def run_command(command):\n",
    "    sproc = subprocess.Popen(command.split(' '), stdout=subprocess.PIPE, stderr=subprocess.PIPE)\n",
    "    output, err = map(lambda byte: byte.decode('utf-8'), sproc.communicate())\n",
    "    if err:\n",
    "        raise Exception(err)\n",
    "    return output.strip()\n",
    "\n",
    "def compile_cpp(path, **kwargs):\n",
    "    command = f\"g++ {path}.cpp -o {path}.ignoreme\"\n",
    "    return run_command(command.strip())\n",
    "\n",
    "def execute_cpp(path, **kwargs):\n",
    "    command = f\"./{path}.ignoreme {kwargs.get('file_path', '')} {kwargs.get('kmer_size', '')} {kwargs.get('hash_map_size', '')}\"\n",
    "    return run_command(command.strip())"
   ]
  },
  {
   "cell_type": "markdown",
   "id": "endless-diversity",
   "metadata": {},
   "source": [
    "## Dataframe Helper Functions"
   ]
  },
  {
   "cell_type": "code",
   "execution_count": 67,
   "id": "impressed-warehouse",
   "metadata": {},
   "outputs": [],
   "source": [
    "def create_dataframe(columns, data = []):\n",
    "    return pd.DataFrame(columns = columns, data = data)"
   ]
  },
  {
   "cell_type": "markdown",
   "id": "artificial-radical",
   "metadata": {},
   "source": [
    "## Test Parameters\n",
    "We want to define which tests do we want to do (for example, test the k-mer size influence on this algorithm).\n",
    "Let's define a test suite structure, defining the parameter we want to test. The key should be the test name, and the value is a dict with the parameters we want to pass to our test function:\n",
    "```python3\n",
    "test_suite = {\n",
    "  <test_name>: {\n",
    "      'test_file_path': str,\n",
    "      'kmer_size': int,\n",
    "      'hash_map_size': int,\n",
    "  }\n",
    "}\n",
    "```"
   ]
  },
  {
   "cell_type": "code",
   "execution_count": 70,
   "id": "resistant-january",
   "metadata": {},
   "outputs": [],
   "source": [
    "def run_test_kmer(test):\n",
    "    df = create_dataframe(columns)\n",
    "    for kmer_size in test['kmer_size']:\n",
    "        out = execute_cpp(\n",
    "            TEST_PROGRAM_PATH, \n",
    "            file_path = test[\"file_path\"], \n",
    "            kmer_size = kmer_size, \n",
    "            hash_map_size = test[\"hash_map_size\"])\n",
    "        df = df.append(create_dataframe(columns, [out.split(' ')]))\n",
    "    return df"
   ]
  },
  {
   "cell_type": "code",
   "execution_count": 72,
   "id": "useful-murder",
   "metadata": {},
   "outputs": [],
   "source": [
    "test_suite = {\n",
    "    \"test_kmer_size\": {\n",
    "        \"file_path\": \"../datasets/dna.5MB\",\n",
    "        \"kmer_size\": [7, 8, 9, 10, 11, 12],\n",
    "        \"hash_map_size\": 504871,\n",
    "    },\n",
    "}"
   ]
  },
  {
   "cell_type": "markdown",
   "id": "multiple-burke",
   "metadata": {},
   "source": [
    "## Test"
   ]
  },
  {
   "cell_type": "code",
   "execution_count": 73,
   "id": "spoken-rotation",
   "metadata": {},
   "outputs": [],
   "source": [
    "compile_cpp(TEST_PROGRAM_PATH)\n",
    "columns = [\n",
    "    \"true_positives\", \n",
    "    \"true_negatives\", \n",
    "    \"false_positives\", \n",
    "    \"false_negatives\", \n",
    "    \"sensibility\", \n",
    "    \"specificity\",\n",
    "    \"found_kmers\",\n",
    "]"
   ]
  },
  {
   "cell_type": "code",
   "execution_count": 74,
   "id": "approved-scratch",
   "metadata": {},
   "outputs": [
    {
     "data": {
      "text/html": [
       "<div>\n",
       "<style scoped>\n",
       "    .dataframe tbody tr th:only-of-type {\n",
       "        vertical-align: middle;\n",
       "    }\n",
       "\n",
       "    .dataframe tbody tr th {\n",
       "        vertical-align: top;\n",
       "    }\n",
       "\n",
       "    .dataframe thead th {\n",
       "        text-align: right;\n",
       "    }\n",
       "</style>\n",
       "<table border=\"1\" class=\"dataframe\">\n",
       "  <thead>\n",
       "    <tr style=\"text-align: right;\">\n",
       "      <th></th>\n",
       "      <th>true_positives</th>\n",
       "      <th>true_negatives</th>\n",
       "      <th>false_positives</th>\n",
       "      <th>false_negatives</th>\n",
       "      <th>sensibility</th>\n",
       "      <th>specificity</th>\n",
       "      <th>found_kmers</th>\n",
       "    </tr>\n",
       "  </thead>\n",
       "  <tbody>\n",
       "    <tr>\n",
       "      <th>0</th>\n",
       "      <td>16384</td>\n",
       "      <td>0</td>\n",
       "      <td>0</td>\n",
       "      <td>0</td>\n",
       "      <td>1</td>\n",
       "      <td>1</td>\n",
       "      <td>16384</td>\n",
       "    </tr>\n",
       "    <tr>\n",
       "      <th>0</th>\n",
       "      <td>65297</td>\n",
       "      <td>239</td>\n",
       "      <td>0</td>\n",
       "      <td>0</td>\n",
       "      <td>1</td>\n",
       "      <td>1</td>\n",
       "      <td>65297</td>\n",
       "    </tr>\n",
       "    <tr>\n",
       "      <th>0</th>\n",
       "      <td>248230</td>\n",
       "      <td>13914</td>\n",
       "      <td>0</td>\n",
       "      <td>0</td>\n",
       "      <td>1</td>\n",
       "      <td>1</td>\n",
       "      <td>248230</td>\n",
       "    </tr>\n",
       "    <tr>\n",
       "      <th>0</th>\n",
       "      <td>804665</td>\n",
       "      <td>243911</td>\n",
       "      <td>0</td>\n",
       "      <td>0</td>\n",
       "      <td>1</td>\n",
       "      <td>1</td>\n",
       "      <td>804665</td>\n",
       "    </tr>\n",
       "  </tbody>\n",
       "</table>\n",
       "</div>"
      ],
      "text/plain": [
       "  true_positives true_negatives false_positives false_negatives sensibility  \\\n",
       "0          16384              0               0               0           1   \n",
       "0          65297            239               0               0           1   \n",
       "0         248230          13914               0               0           1   \n",
       "0         804665         243911               0               0           1   \n",
       "\n",
       "  specificity found_kmers  \n",
       "0           1       16384  \n",
       "0           1       65297  \n",
       "0           1      248230  \n",
       "0           1      804665  "
      ]
     },
     "execution_count": 74,
     "metadata": {},
     "output_type": "execute_result"
    }
   ],
   "source": [
    "run_test_kmer(test_suite[\"test_kmer_size\"])"
   ]
  },
  {
   "cell_type": "code",
   "execution_count": null,
   "id": "governmental-coupon",
   "metadata": {},
   "outputs": [],
   "source": []
  }
 ],
 "metadata": {
  "kernelspec": {
   "display_name": "Python 3",
   "language": "python",
   "name": "python3"
  },
  "language_info": {
   "codemirror_mode": {
    "name": "ipython",
    "version": 3
   },
   "file_extension": ".py",
   "mimetype": "text/x-python",
   "name": "python",
   "nbconvert_exporter": "python",
   "pygments_lexer": "ipython3",
   "version": "3.8.5"
  }
 },
 "nbformat": 4,
 "nbformat_minor": 5
}
