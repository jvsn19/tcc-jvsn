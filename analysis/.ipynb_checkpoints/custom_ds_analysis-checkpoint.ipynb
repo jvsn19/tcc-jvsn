{
 "cells": [
  {
   "cell_type": "markdown",
   "id": "proper-trader",
   "metadata": {},
   "source": [
    "## Imports"
   ]
  },
  {
   "cell_type": "code",
   "execution_count": 1,
   "id": "congressional-insider",
   "metadata": {},
   "outputs": [],
   "source": [
    "import pandas as pd\n",
    "import matplotlib.pyplot as plt\n",
    "import subprocess\n",
    "\n",
    "%matplotlib inline"
   ]
  },
  {
   "cell_type": "markdown",
   "id": "competitive-pottery",
   "metadata": {},
   "source": [
    "## Global Variables"
   ]
  },
  {
   "cell_type": "code",
   "execution_count": 2,
   "id": "round-arthur",
   "metadata": {},
   "outputs": [],
   "source": [
    "TEST_PROGRAM_PATH = \"../custom_ds/main\""
   ]
  },
  {
   "cell_type": "markdown",
   "id": "solved-adapter",
   "metadata": {},
   "source": [
    "## Functions"
   ]
  },
  {
   "cell_type": "code",
   "execution_count": 28,
   "id": "absent-portugal",
   "metadata": {},
   "outputs": [],
   "source": [
    "def run_command(command):\n",
    "    sproc = subprocess.Popen(command.split(' '), stdout=subprocess.PIPE, stderr=subprocess.PIPE)\n",
    "    output, err = map(lambda byte: byte.decode('utf-8'), sproc.communicate())\n",
    "    if err:\n",
    "        raise Exception(err)\n",
    "    return output.strip()\n",
    "\n",
    "def compile_cpp(path, **kwargs):\n",
    "    command = f\"g++ {path}.cpp -o {path}.ignoreme\"\n",
    "    return run_command(command.strip())\n",
    "\n",
    "def execute_cpp(path, **kwargs):\n",
    "    command = f\"./{path}.ignoreme {kwargs.get('file_path', '')} {kwargs.get('kmer_size', '')} {kwargs.get('hash_map_size', '')} {kwargs.get('fp_size', '')} {kwargs.get('use_buffer', '')}\"\n",
    "    return run_command(command.strip())"
   ]
  },
  {
   "cell_type": "markdown",
   "id": "median-generation",
   "metadata": {},
   "source": [
    "## Dataframe Helper Functions"
   ]
  },
  {
   "cell_type": "code",
   "execution_count": 34,
   "id": "worthy-organic",
   "metadata": {},
   "outputs": [],
   "source": [
    "def create_dataframe(columns, data = []):\n",
    "    return pd.DataFrame(columns = columns, data = data)\n",
    "\n",
    "def plot_graphic(test_name, dataframe, x_axis, y_axis):\n",
    "    plt.title(test_name)\n",
    "    plt.xlabel(x_axis)\n",
    "    plt.ylabel(y_axis)\n",
    "    plt.plot(dataframe[x_axis], dataframe[y_axis], '-')\n",
    "    plt.show()"
   ]
  },
  {
   "cell_type": "markdown",
   "id": "polish-victory",
   "metadata": {},
   "source": [
    "## Test Parameters\n",
    "We want to define which tests do we want to do (for example, test the k-mer size influence on this algorithm).\n",
    "Let's define a test suite structure, defining the parameter we want to test. The key should be the test name, and the value is a dict with the parameters we want to pass to our test function:\n",
    "```python3\n",
    "test_suite = {\n",
    "  <test_name>: {\n",
    "      'test_file_path': str,\n",
    "      'kmer_size': int,\n",
    "      'hash_map_size': int,\n",
    "      'fp_size': int,\n",
    "  }\n",
    "}\n",
    "```"
   ]
  },
  {
   "cell_type": "code",
   "execution_count": 45,
   "id": "certain-chapter",
   "metadata": {},
   "outputs": [],
   "source": [
    "def run_test_kmer(test):\n",
    "    df = create_dataframe(columns)\n",
    "    for kmer_size in test['kmer_size']:\n",
    "        out = execute_cpp(\n",
    "            TEST_PROGRAM_PATH, \n",
    "            file_path = test[\"file_path\"], \n",
    "            kmer_size = kmer_size, \n",
    "            hash_map_size = test[\"hash_map_size\"],\n",
    "            fp_size = test[\"fp_size\"])\n",
    "        df = df.append(create_dataframe(columns, [out.split(' ')]))\n",
    "    return df\n",
    "\n",
    "def run_test_hash_map_size(test):\n",
    "    df = create_dataframe(columns)\n",
    "    for hash_map_size in test['hash_map_size']:\n",
    "        out = execute_cpp(\n",
    "            TEST_PROGRAM_PATH, \n",
    "            file_path = test[\"file_path\"], \n",
    "            kmer_size = test[\"kmer_size\"], \n",
    "            hash_map_size = hash_map_size,\n",
    "            fp_size = test[\"fp_size\"])\n",
    "        df = df.append(create_dataframe(columns, [out.split(' ')]))\n",
    "    return df\n",
    "\n",
    "def run_test_fp_size_hash_map_size(test):\n",
    "    df = create_dataframe(columns)\n",
    "    for hash_map_size in test['hash_map_size']:\n",
    "        for fp_size in test['fp_size']:\n",
    "            out = execute_cpp(\n",
    "                TEST_PROGRAM_PATH, \n",
    "                file_path = test[\"file_path\"], \n",
    "                kmer_size = test[\"kmer_size\"], \n",
    "                hash_map_size = hash_map_size,\n",
    "                fp_size = fp_size)\n",
    "            df = df.append(create_dataframe(columns, [out.split(' ')]))\n",
    "    return df\n",
    "\n",
    "def run_tests(test):\n",
    "    print(tests)\n",
    "    df = create_dataframe(columns)\n",
    "    for hash_map_size in test['hash_map_size']:\n",
    "        for fp_size in test['fp_size']:\n",
    "            for use_buffer in test['use_buffer']:\n",
    "                out = execute_cpp(\n",
    "                    TEST_PROGRAM_PATH, \n",
    "                    file_path = test[\"file_path\"], \n",
    "                    kmer_size = test[\"kmer_size\"], \n",
    "                    hash_map_size = hash_map_size,\n",
    "                    fp_size = fp_size,\n",
    "                    use_buffer = use_buffer)\n",
    "                test_str = f\"hash_map_size {hash_map_size} fp_size {fp_size} use_buffer {use_buffer}\"\n",
    "                df = df.append(create_dataframe(columns, [test_str] + [out.split(' ')]))\n",
    "    return df"
   ]
  },
  {
   "cell_type": "code",
   "execution_count": 38,
   "id": "protected-fetish",
   "metadata": {},
   "outputs": [],
   "source": [
    "test_suite = {\n",
    "    \"test_kmer_size\": {\n",
    "        \"file_path\": \"../datasets/dna.5MB\",\n",
    "        \"kmer_size\": [7, 8, 9, 10, 11],\n",
    "        \"hash_map_size\": 20,\n",
    "        \"fp_size\": 3,\n",
    "        'use_buffer': [0, 1],\n",
    "    },\n",
    "    \"test_hash_map_size\": {\n",
    "        \"file_path\": \"../datasets/dna.10MB\",\n",
    "        \"kmer_size\": 14,\n",
    "        \"hash_map_size\": [\n",
    "            23,\n",
    "            24,\n",
    "            25,  \n",
    "            26,\n",
    "            28,\n",
    "            30,\n",
    "        ],\n",
    "        \"fp_size\": 3,\n",
    "        'use_buffer': [0, 1],\n",
    "    },\n",
    "    \"test_fp_size_hash_map_size\": {\n",
    "        \"file_path\": \"../datasets/dna.10MB\",\n",
    "        \"kmer_size\": 14,\n",
    "        \"hash_map_size\": [\n",
    "            23,\n",
    "            24,\n",
    "            25,  \n",
    "        ],\n",
    "        'fp_size': [\n",
    "            3,\n",
    "            4,\n",
    "            5\n",
    "        ],\n",
    "        'use_buffer': [0, 1],\n",
    "    },\n",
    "    \"test_fp_size_hash_map_size_5\": {\n",
    "        \"file_path\": \"../datasets/dna.5MB\",\n",
    "        \"kmer_size\": 7,\n",
    "        \"hash_map_size\": [\n",
    "            23,\n",
    "            24,\n",
    "        ],\n",
    "        'fp_size': [\n",
    "            3,\n",
    "            4,\n",
    "            5,\n",
    "        ],\n",
    "        'use_buffer': [\"0\", \"1\"],\n",
    "    },\n",
    "}"
   ]
  },
  {
   "cell_type": "markdown",
   "id": "regular-privilege",
   "metadata": {},
   "source": [
    "## Test"
   ]
  },
  {
   "cell_type": "code",
   "execution_count": 42,
   "id": "neither-floating",
   "metadata": {},
   "outputs": [
    {
     "ename": "Exception",
     "evalue": "In file included from ../custom_ds/main.cpp:9:\n../custom_ds/Hash.cpp:11:15: warning: integer constant is so large that it is unsigned\n   11 |     return (((11400714819323198485 * key)) >> (64 - nBits)) & ((1 << nBits) - 1);\n      |               ^~~~~~~~~~~~~~~~~~~~\n../custom_ds/main.cpp:40:15: warning: integer constant is so large that it is unsigned\n   40 |     return (((11400714819323198485 * key)) >> (64 - SHIFT)) & ((1 << SHIFT) - 1);\n      |               ^~~~~~~~~~~~~~~~~~~~\n",
     "output_type": "error",
     "traceback": [
      "\u001b[0;31m---------------------------------------------------------------------------\u001b[0m",
      "\u001b[0;31mException\u001b[0m                                 Traceback (most recent call last)",
      "\u001b[0;32m<ipython-input-42-b69192df6952>\u001b[0m in \u001b[0;36m<module>\u001b[0;34m\u001b[0m\n\u001b[0;32m----> 1\u001b[0;31m \u001b[0mcompile_cpp\u001b[0m\u001b[0;34m(\u001b[0m\u001b[0mTEST_PROGRAM_PATH\u001b[0m\u001b[0;34m)\u001b[0m\u001b[0;34m\u001b[0m\u001b[0;34m\u001b[0m\u001b[0m\n\u001b[0m",
      "\u001b[0;32m<ipython-input-28-6f839c5cd213>\u001b[0m in \u001b[0;36mcompile_cpp\u001b[0;34m(path, **kwargs)\u001b[0m\n\u001b[1;32m      8\u001b[0m \u001b[0;32mdef\u001b[0m \u001b[0mcompile_cpp\u001b[0m\u001b[0;34m(\u001b[0m\u001b[0mpath\u001b[0m\u001b[0;34m,\u001b[0m \u001b[0;34m**\u001b[0m\u001b[0mkwargs\u001b[0m\u001b[0;34m)\u001b[0m\u001b[0;34m:\u001b[0m\u001b[0;34m\u001b[0m\u001b[0;34m\u001b[0m\u001b[0m\n\u001b[1;32m      9\u001b[0m     \u001b[0mcommand\u001b[0m \u001b[0;34m=\u001b[0m \u001b[0;34mf\"g++ {path}.cpp -o {path}.ignoreme\"\u001b[0m\u001b[0;34m\u001b[0m\u001b[0;34m\u001b[0m\u001b[0m\n\u001b[0;32m---> 10\u001b[0;31m     \u001b[0;32mreturn\u001b[0m \u001b[0mrun_command\u001b[0m\u001b[0;34m(\u001b[0m\u001b[0mcommand\u001b[0m\u001b[0;34m.\u001b[0m\u001b[0mstrip\u001b[0m\u001b[0;34m(\u001b[0m\u001b[0;34m)\u001b[0m\u001b[0;34m)\u001b[0m\u001b[0;34m\u001b[0m\u001b[0;34m\u001b[0m\u001b[0m\n\u001b[0m\u001b[1;32m     11\u001b[0m \u001b[0;34m\u001b[0m\u001b[0m\n\u001b[1;32m     12\u001b[0m \u001b[0;32mdef\u001b[0m \u001b[0mexecute_cpp\u001b[0m\u001b[0;34m(\u001b[0m\u001b[0mpath\u001b[0m\u001b[0;34m,\u001b[0m \u001b[0;34m**\u001b[0m\u001b[0mkwargs\u001b[0m\u001b[0;34m)\u001b[0m\u001b[0;34m:\u001b[0m\u001b[0;34m\u001b[0m\u001b[0;34m\u001b[0m\u001b[0m\n",
      "\u001b[0;32m<ipython-input-28-6f839c5cd213>\u001b[0m in \u001b[0;36mrun_command\u001b[0;34m(command)\u001b[0m\n\u001b[1;32m      3\u001b[0m     \u001b[0moutput\u001b[0m\u001b[0;34m,\u001b[0m \u001b[0merr\u001b[0m \u001b[0;34m=\u001b[0m \u001b[0mmap\u001b[0m\u001b[0;34m(\u001b[0m\u001b[0;32mlambda\u001b[0m \u001b[0mbyte\u001b[0m\u001b[0;34m:\u001b[0m \u001b[0mbyte\u001b[0m\u001b[0;34m.\u001b[0m\u001b[0mdecode\u001b[0m\u001b[0;34m(\u001b[0m\u001b[0;34m'utf-8'\u001b[0m\u001b[0;34m)\u001b[0m\u001b[0;34m,\u001b[0m \u001b[0msproc\u001b[0m\u001b[0;34m.\u001b[0m\u001b[0mcommunicate\u001b[0m\u001b[0;34m(\u001b[0m\u001b[0;34m)\u001b[0m\u001b[0;34m)\u001b[0m\u001b[0;34m\u001b[0m\u001b[0;34m\u001b[0m\u001b[0m\n\u001b[1;32m      4\u001b[0m     \u001b[0;32mif\u001b[0m \u001b[0merr\u001b[0m\u001b[0;34m:\u001b[0m\u001b[0;34m\u001b[0m\u001b[0;34m\u001b[0m\u001b[0m\n\u001b[0;32m----> 5\u001b[0;31m         \u001b[0;32mraise\u001b[0m \u001b[0mException\u001b[0m\u001b[0;34m(\u001b[0m\u001b[0merr\u001b[0m\u001b[0;34m)\u001b[0m\u001b[0;34m\u001b[0m\u001b[0;34m\u001b[0m\u001b[0m\n\u001b[0m\u001b[1;32m      6\u001b[0m     \u001b[0;32mreturn\u001b[0m \u001b[0moutput\u001b[0m\u001b[0;34m.\u001b[0m\u001b[0mstrip\u001b[0m\u001b[0;34m(\u001b[0m\u001b[0;34m)\u001b[0m\u001b[0;34m\u001b[0m\u001b[0;34m\u001b[0m\u001b[0m\n\u001b[1;32m      7\u001b[0m \u001b[0;34m\u001b[0m\u001b[0m\n",
      "\u001b[0;31mException\u001b[0m: In file included from ../custom_ds/main.cpp:9:\n../custom_ds/Hash.cpp:11:15: warning: integer constant is so large that it is unsigned\n   11 |     return (((11400714819323198485 * key)) >> (64 - nBits)) & ((1 << nBits) - 1);\n      |               ^~~~~~~~~~~~~~~~~~~~\n../custom_ds/main.cpp:40:15: warning: integer constant is so large that it is unsigned\n   40 |     return (((11400714819323198485 * key)) >> (64 - SHIFT)) & ((1 << SHIFT) - 1);\n      |               ^~~~~~~~~~~~~~~~~~~~\n"
     ]
    }
   ],
   "source": [
    "compile_cpp(TEST_PROGRAM_PATH)"
   ]
  },
  {
   "cell_type": "code",
   "execution_count": 33,
   "id": "considerable-ready",
   "metadata": {},
   "outputs": [],
   "source": [
    "columns = [\n",
    "    \"test\"\n",
    "    \"true_positives\", \n",
    "    \"true_negatives\", \n",
    "    \"false_positives\", \n",
    "    \"false_negatives\", \n",
    "    \"sensibility\", \n",
    "    \"specificity\",\n",
    "    \"found_kmers\",\n",
    "]"
   ]
  },
  {
   "cell_type": "code",
   "execution_count": 44,
   "id": "wanted-protection",
   "metadata": {},
   "outputs": [
    {
     "name": "stdout",
     "output_type": "stream",
     "text": [
      "{'file_path': '../datasets/dna.5MB', 'kmer_size': 7, 'hash_map_size': [23, 24], 'fp_size': [3, 4, 5], 'use_buffer': ['0', '1']}\n"
     ]
    },
    {
     "ename": "AttributeError",
     "evalue": "'list' object has no attribute 'get'",
     "output_type": "error",
     "traceback": [
      "\u001b[0;31m---------------------------------------------------------------------------\u001b[0m",
      "\u001b[0;31mAttributeError\u001b[0m                            Traceback (most recent call last)",
      "\u001b[0;32m<ipython-input-44-88cb5a406747>\u001b[0m in \u001b[0;36m<module>\u001b[0;34m\u001b[0m\n\u001b[0;32m----> 1\u001b[0;31m \u001b[0mtest_fp_size_hash_map_size_5\u001b[0m \u001b[0;34m=\u001b[0m \u001b[0mrun_tests\u001b[0m\u001b[0;34m(\u001b[0m\u001b[0mtest_suite\u001b[0m\u001b[0;34m[\u001b[0m\u001b[0;34m\"test_fp_size_hash_map_size_5\"\u001b[0m\u001b[0;34m]\u001b[0m\u001b[0;34m)\u001b[0m\u001b[0;34m\u001b[0m\u001b[0;34m\u001b[0m\u001b[0m\n\u001b[0m",
      "\u001b[0;32m<ipython-input-43-657d0ad41773>\u001b[0m in \u001b[0;36mrun_tests\u001b[0;34m(tests)\u001b[0m\n\u001b[1;32m     39\u001b[0m     \u001b[0mprint\u001b[0m\u001b[0;34m(\u001b[0m\u001b[0mtests\u001b[0m\u001b[0;34m)\u001b[0m\u001b[0;34m\u001b[0m\u001b[0;34m\u001b[0m\u001b[0m\n\u001b[1;32m     40\u001b[0m     \u001b[0mdf\u001b[0m \u001b[0;34m=\u001b[0m \u001b[0mcreate_dataframe\u001b[0m\u001b[0;34m(\u001b[0m\u001b[0mcolumns\u001b[0m\u001b[0;34m)\u001b[0m\u001b[0;34m\u001b[0m\u001b[0;34m\u001b[0m\u001b[0m\n\u001b[0;32m---> 41\u001b[0;31m     \u001b[0;32mfor\u001b[0m \u001b[0mhash_map_size\u001b[0m \u001b[0;32min\u001b[0m \u001b[0mtest\u001b[0m\u001b[0;34m.\u001b[0m\u001b[0mget\u001b[0m\u001b[0;34m(\u001b[0m\u001b[0;34m'hash_map_size'\u001b[0m\u001b[0;34m,\u001b[0m \u001b[0;34m[\u001b[0m\u001b[0;34m]\u001b[0m\u001b[0;34m)\u001b[0m\u001b[0;34m:\u001b[0m\u001b[0;34m\u001b[0m\u001b[0;34m\u001b[0m\u001b[0m\n\u001b[0m\u001b[1;32m     42\u001b[0m         \u001b[0;32mfor\u001b[0m \u001b[0mfp_size\u001b[0m \u001b[0;32min\u001b[0m \u001b[0mtest\u001b[0m\u001b[0;34m[\u001b[0m\u001b[0;34m'fp_size'\u001b[0m\u001b[0;34m]\u001b[0m\u001b[0;34m:\u001b[0m\u001b[0;34m\u001b[0m\u001b[0;34m\u001b[0m\u001b[0m\n\u001b[1;32m     43\u001b[0m             \u001b[0;32mfor\u001b[0m \u001b[0muse_buffer\u001b[0m \u001b[0;32min\u001b[0m \u001b[0mtest\u001b[0m\u001b[0;34m[\u001b[0m\u001b[0;34m'use_buffer'\u001b[0m\u001b[0;34m]\u001b[0m\u001b[0;34m:\u001b[0m\u001b[0;34m\u001b[0m\u001b[0;34m\u001b[0m\u001b[0m\n",
      "\u001b[0;31mAttributeError\u001b[0m: 'list' object has no attribute 'get'"
     ]
    }
   ],
   "source": [
    "test_fp_size_hash_map_size_5 = run_tests(test_suite[\"test_fp_size_hash_map_size_5\"])"
   ]
  },
  {
   "cell_type": "code",
   "execution_count": 30,
   "id": "welcome-removal",
   "metadata": {},
   "outputs": [
    {
     "data": {
      "text/html": [
       "<div>\n",
       "<style scoped>\n",
       "    .dataframe tbody tr th:only-of-type {\n",
       "        vertical-align: middle;\n",
       "    }\n",
       "\n",
       "    .dataframe tbody tr th {\n",
       "        vertical-align: top;\n",
       "    }\n",
       "\n",
       "    .dataframe thead th {\n",
       "        text-align: right;\n",
       "    }\n",
       "</style>\n",
       "<table border=\"1\" class=\"dataframe\">\n",
       "  <thead>\n",
       "    <tr style=\"text-align: right;\">\n",
       "      <th></th>\n",
       "      <th>true_positives</th>\n",
       "      <th>true_negatives</th>\n",
       "      <th>false_positives</th>\n",
       "      <th>false_negatives</th>\n",
       "      <th>sensibility</th>\n",
       "      <th>specificity</th>\n",
       "      <th>found_kmers</th>\n",
       "    </tr>\n",
       "  </thead>\n",
       "  <tbody>\n",
       "    <tr>\n",
       "      <th>0</th>\n",
       "      <td>12718634</td>\n",
       "      <td>227451720</td>\n",
       "      <td>21343688</td>\n",
       "      <td>6921414</td>\n",
       "      <td>0.647587</td>\n",
       "      <td>0.914212</td>\n",
       "      <td>19640048</td>\n",
       "    </tr>\n",
       "    <tr>\n",
       "      <th>0</th>\n",
       "      <td>12718634</td>\n",
       "      <td>227451720</td>\n",
       "      <td>21343688</td>\n",
       "      <td>6921414</td>\n",
       "      <td>0.647587</td>\n",
       "      <td>0.914212</td>\n",
       "      <td>19640048</td>\n",
       "    </tr>\n",
       "    <tr>\n",
       "      <th>0</th>\n",
       "      <td>11135682</td>\n",
       "      <td>241421455</td>\n",
       "      <td>7373953</td>\n",
       "      <td>8504366</td>\n",
       "      <td>0.566989</td>\n",
       "      <td>0.970361</td>\n",
       "      <td>19640048</td>\n",
       "    </tr>\n",
       "    <tr>\n",
       "      <th>0</th>\n",
       "      <td>15644362</td>\n",
       "      <td>237879472</td>\n",
       "      <td>10915936</td>\n",
       "      <td>3995686</td>\n",
       "      <td>0.796554</td>\n",
       "      <td>0.956125</td>\n",
       "      <td>19640048</td>\n",
       "    </tr>\n",
       "    <tr>\n",
       "      <th>0</th>\n",
       "      <td>15644362</td>\n",
       "      <td>237879472</td>\n",
       "      <td>10915936</td>\n",
       "      <td>3995686</td>\n",
       "      <td>0.796554</td>\n",
       "      <td>0.956125</td>\n",
       "      <td>19640048</td>\n",
       "    </tr>\n",
       "    <tr>\n",
       "      <th>0</th>\n",
       "      <td>14480978</td>\n",
       "      <td>247878095</td>\n",
       "      <td>917313</td>\n",
       "      <td>5159070</td>\n",
       "      <td>0.737319</td>\n",
       "      <td>0.996313</td>\n",
       "      <td>19640048</td>\n",
       "    </tr>\n",
       "  </tbody>\n",
       "</table>\n",
       "</div>"
      ],
      "text/plain": [
       "  true_positives true_negatives false_positives false_negatives sensibility  \\\n",
       "0       12718634      227451720        21343688         6921414    0.647587   \n",
       "0       12718634      227451720        21343688         6921414    0.647587   \n",
       "0       11135682      241421455         7373953         8504366    0.566989   \n",
       "0       15644362      237879472        10915936         3995686    0.796554   \n",
       "0       15644362      237879472        10915936         3995686    0.796554   \n",
       "0       14480978      247878095          917313         5159070    0.737319   \n",
       "\n",
       "  specificity found_kmers  \n",
       "0    0.914212    19640048  \n",
       "0    0.914212    19640048  \n",
       "0    0.970361    19640048  \n",
       "0    0.956125    19640048  \n",
       "0    0.956125    19640048  \n",
       "0    0.996313    19640048  "
      ]
     },
     "execution_count": 30,
     "metadata": {},
     "output_type": "execute_result"
    }
   ],
   "source": [
    "test_fp_size_hash_map_size_5"
   ]
  },
  {
   "cell_type": "markdown",
   "id": "fresh-adelaide",
   "metadata": {},
   "source": [
    "- calcular sens, spec sem considerar o buffer\n",
    "- consultar arestas\n",
    "- hashear fingerprint\n",
    "- reportar resultados semana que vem (começar a trabalhar no texto)"
   ]
  },
  {
   "cell_type": "code",
   "execution_count": 31,
   "id": "optimum-qatar",
   "metadata": {},
   "outputs": [
    {
     "data": {
      "text/plain": [
       "4194304"
      ]
     },
     "execution_count": 31,
     "metadata": {},
     "output_type": "execute_result"
    }
   ],
   "source": []
  },
  {
   "cell_type": "code",
   "execution_count": null,
   "id": "forward-bachelor",
   "metadata": {},
   "outputs": [],
   "source": []
  }
 ],
 "metadata": {
  "kernelspec": {
   "display_name": "Python 3",
   "language": "python",
   "name": "python3"
  },
  "language_info": {
   "codemirror_mode": {
    "name": "ipython",
    "version": 3
   },
   "file_extension": ".py",
   "mimetype": "text/x-python",
   "name": "python",
   "nbconvert_exporter": "python",
   "pygments_lexer": "ipython3",
   "version": "3.8.5"
  }
 },
 "nbformat": 4,
 "nbformat_minor": 5
}
